{
 "cells": [
  {
   "metadata": {},
   "cell_type": "raw",
   "source": "",
   "id": "41c96b74aeed18f1"
  },
  {
   "metadata": {
    "ExecuteTime": {
     "end_time": "2025-05-22T08:33:28.312800Z",
     "start_time": "2025-05-22T08:33:24.655Z"
    }
   },
   "cell_type": "code",
   "source": [
    "from sklearn.feature_selection import RFE\n",
    "from sklearn.linear_model import LogisticRegression\n",
    "\n",
    "\n",
    "# Sample data (X) and target (y)\n",
    "X = [[1, 2, 3], [4, 5, 6], [7, 8, 9]]\n",
    "y = [0, 1, 0]\n",
    "\n",
    "# RFE with Logistic Regression\n",
    "model = LogisticRegression()\n",
    "rfe= RFE(model, n_features_to_select=2)\n",
    "fit = rfe.fit(X, y)\n",
    "print(\"Selected Features:\", fit.support_) # e.g., [True, False, True]"
   ],
   "id": "d69d1f48bce04a53",
   "outputs": [
    {
     "name": "stdout",
     "output_type": "stream",
     "text": [
      "Selected Features: [ True False  True]\n"
     ]
    }
   ],
   "execution_count": 9
  }
 ],
 "metadata": {
  "kernelspec": {
   "display_name": "Python 3",
   "language": "python",
   "name": "python3"
  },
  "language_info": {
   "codemirror_mode": {
    "name": "ipython",
    "version": 2
   },
   "file_extension": ".py",
   "mimetype": "text/x-python",
   "name": "python",
   "nbconvert_exporter": "python",
   "pygments_lexer": "ipython2",
   "version": "2.7.6"
  }
 },
 "nbformat": 4,
 "nbformat_minor": 5
}

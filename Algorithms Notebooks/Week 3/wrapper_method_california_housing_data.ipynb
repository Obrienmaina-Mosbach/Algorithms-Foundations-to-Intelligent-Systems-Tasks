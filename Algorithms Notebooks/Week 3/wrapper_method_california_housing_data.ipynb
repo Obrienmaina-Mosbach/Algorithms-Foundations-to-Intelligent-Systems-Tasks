{
 "cells": [
  {
   "metadata": {
    "ExecuteTime": {
     "end_time": "2025-05-26T16:42:34.514062Z",
     "start_time": "2025-05-26T16:42:34.506115Z"
    }
   },
   "cell_type": "code",
   "source": [
    "import pandas as pd\n",
    "from sklearn.datasets import fetch_california_housing\n",
    "from sklearn.linear_model import LinearRegression\n",
    "from sklearn.feature_selection import RFE\n",
    "\n",
    "\n",
    "# Load the California housing dataset\n",
    "california_housing_data = fetch_california_housing()\n",
    "\n",
    "# Convert to DataFrame for easier manipulation\n",
    "california_housing_df = pd.DataFrame(data=california_housing_data.data, columns=california_housing_data.feature_names)\n"
   ],
   "id": "5afa87048fc8bce1",
   "outputs": [],
   "execution_count": 110
  },
  {
   "metadata": {
    "ExecuteTime": {
     "end_time": "2025-05-26T16:42:35.955719Z",
     "start_time": "2025-05-26T16:42:35.946933Z"
    }
   },
   "cell_type": "code",
   "source": [
    "# Prepare the feature matrix (X) and target vector (y)\n",
    "X = california_housing_df\n",
    "y = california_housing_data.target\n",
    "\n",
    "#RFE with Logistic Regression\n",
    "model = LinearRegression()\n",
    "rfe = RFE(model, n_features_to_select=5)\n",
    "fit = rfe.fit(X, y)\n",
    "\n",
    "Selected_features = X.columns[fit.support_]\n",
    "print(\"Selected Features:\", Selected_features.tolist())"
   ],
   "id": "283f6b60a41bf81a",
   "outputs": [
    {
     "name": "stdout",
     "output_type": "stream",
     "text": [
      "Selected Features: ['MedInc', 'AveRooms', 'AveBedrms', 'Latitude', 'Longitude']\n"
     ]
    }
   ],
   "execution_count": 111
  }
 ],
 "metadata": {
  "kernelspec": {
   "display_name": "Python 3",
   "language": "python",
   "name": "python3"
  },
  "language_info": {
   "codemirror_mode": {
    "name": "ipython",
    "version": 2
   },
   "file_extension": ".py",
   "mimetype": "text/x-python",
   "name": "python",
   "nbconvert_exporter": "python",
   "pygments_lexer": "ipython2",
   "version": "2.7.6"
  }
 },
 "nbformat": 4,
 "nbformat_minor": 5
}

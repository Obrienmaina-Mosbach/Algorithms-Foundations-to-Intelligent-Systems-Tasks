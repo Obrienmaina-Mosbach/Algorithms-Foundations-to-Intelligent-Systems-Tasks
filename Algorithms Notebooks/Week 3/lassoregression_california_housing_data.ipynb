{
 "cells": [
  {
   "cell_type": "code",
   "id": "initial_id",
   "metadata": {
    "collapsed": true,
    "ExecuteTime": {
     "end_time": "2025-05-26T16:55:46.713431Z",
     "start_time": "2025-05-26T16:55:46.698863Z"
    }
   },
   "source": [
    "import pandas as pd\n",
    "from sklearn.datasets import fetch_california_housing\n",
    "from sklearn.linear_model import Lasso\n",
    "from sklearn.model_selection import train_test_split\n",
    "\n",
    "california_housing_data = fetch_california_housing()\n",
    "\n",
    "# Convert to DataFrame for easier manipulation\n",
    "california_house_df = pd.DataFrame(california_housing_data.data, columns=california_housing_data.feature_names)\n",
    "\n",
    "print(california_house_df.head(5))\n",
    "\n",
    "X = california_house_df\n",
    "y = california_housing_data.target\n",
    "\n",
    "# Split the data\n",
    "X_train, X_test, y_train, y_text = train_test_split(X, y, test_size=0.2, random_state=42)\n",
    "\n",
    "# Apply LASSO\n",
    "lasso = Lasso(alpha=0.2, random_state=42)  # Adjust alpha for regularization strength\n",
    "lasso.fit(X_train, y_train)\n",
    "\n",
    "# Identify selected features\n",
    "selected_features = lasso.coef_ != 0\n",
    "print(\"Selected features:\", selected_features)\n"
   ],
   "outputs": [
    {
     "name": "stdout",
     "output_type": "stream",
     "text": [
      "   MedInc  HouseAge  AveRooms  AveBedrms  Population  AveOccup  Latitude  \\\n",
      "0  8.3252      41.0  6.984127   1.023810       322.0  2.555556     37.88   \n",
      "1  8.3014      21.0  6.238137   0.971880      2401.0  2.109842     37.86   \n",
      "2  7.2574      52.0  8.288136   1.073446       496.0  2.802260     37.85   \n",
      "3  5.6431      52.0  5.817352   1.073059       558.0  2.547945     37.85   \n",
      "4  3.8462      52.0  6.281853   1.081081       565.0  2.181467     37.85   \n",
      "\n",
      "   Longitude  \n",
      "0    -122.23  \n",
      "1    -122.22  \n",
      "2    -122.24  \n",
      "3    -122.25  \n",
      "4    -122.25  \n",
      "Selected features: [ True  True False False  True  True  True False]\n"
     ]
    }
   ],
   "execution_count": 11
  }
 ],
 "metadata": {
  "kernelspec": {
   "display_name": "Python 3",
   "language": "python",
   "name": "python3"
  },
  "language_info": {
   "codemirror_mode": {
    "name": "ipython",
    "version": 2
   },
   "file_extension": ".py",
   "mimetype": "text/x-python",
   "name": "python",
   "nbconvert_exporter": "python",
   "pygments_lexer": "ipython2",
   "version": "2.7.6"
  }
 },
 "nbformat": 4,
 "nbformat_minor": 5
}

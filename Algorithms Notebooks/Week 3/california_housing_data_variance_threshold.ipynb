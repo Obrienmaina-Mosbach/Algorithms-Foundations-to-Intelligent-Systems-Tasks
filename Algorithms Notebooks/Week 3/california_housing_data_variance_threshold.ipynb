{
 "cells": [
  {
   "cell_type": "code",
   "execution_count": null,
   "id": "initial_id",
   "metadata": {
    "collapsed": true
   },
   "outputs": [],
   "source": [
    ""
   ]
  },
  {
   "metadata": {
    "ExecuteTime": {
     "end_time": "2025-05-26T15:28:09.487567Z",
     "start_time": "2025-05-26T15:28:09.476860Z"
    }
   },
   "cell_type": "code",
   "source": [
    "from sklearn.datasets import fetch_california_housing\n",
    "from sklearn.feature_selection import VarianceThreshold\n",
    "import pandas as pd\n",
    "\n",
    "# Load the California housing dataset\n",
    "california_housing = fetch_california_housing()\n",
    "# Convert to DataFrame for easier manipulation\n",
    "\n",
    "california_df = pd.DataFrame(california_housing.data, columns=california_housing.feature_names)\n",
    "print(california_df.head())\n",
    "\n",
    "# Display the shape of the dataset\n",
    "print(f'Original Data Shape: {california_df.shape}')\n",
    "\n",
    "\n"
   ],
   "id": "5d28585e73a7101",
   "outputs": [
    {
     "name": "stdout",
     "output_type": "stream",
     "text": [
      "   MedInc  HouseAge  AveRooms  AveBedrms  Population  AveOccup  Latitude  \\\n",
      "0  8.3252      41.0  6.984127   1.023810       322.0  2.555556     37.88   \n",
      "1  8.3014      21.0  6.238137   0.971880      2401.0  2.109842     37.86   \n",
      "2  7.2574      52.0  8.288136   1.073446       496.0  2.802260     37.85   \n",
      "3  5.6431      52.0  5.817352   1.073059       558.0  2.547945     37.85   \n",
      "4  3.8462      52.0  6.281853   1.081081       565.0  2.181467     37.85   \n",
      "\n",
      "   Longitude  \n",
      "0    -122.23  \n",
      "1    -122.22  \n",
      "2    -122.24  \n",
      "3    -122.25  \n",
      "4    -122.25  \n",
      "Original Data Shape: (20640, 8)\n"
     ]
    }
   ],
   "execution_count": 50
  },
  {
   "metadata": {},
   "cell_type": "markdown",
   "source": "",
   "id": "a6c15f3576a5d72f"
  },
  {
   "metadata": {
    "ExecuteTime": {
     "end_time": "2025-05-26T15:30:15.737981Z",
     "start_time": "2025-05-26T15:30:15.728530Z"
    }
   },
   "cell_type": "code",
   "source": [
    "threshold = 0.5\n",
    "vt = VarianceThreshold(threshold)\n",
    "\n",
    "# Fit the VarianceThreshold model and transform the data\n",
    "vt.fit(california_df)\n",
    "transformed = vt.transform(california_df)\n",
    "\n",
    "# Get the names of the features that are kept\n",
    "features_kept = california_df.columns[vt.get_support()]\n",
    "print(f'Features kept: {features_kept.tolist()}')\n",
    "print(f'Transformed Data: \\n {pd.DataFrame(transformed, columns=features_kept)}')\n"
   ],
   "id": "8c09b96c7b23bf17",
   "outputs": [
    {
     "name": "stdout",
     "output_type": "stream",
     "text": [
      "Features kept: ['MedInc', 'HouseAge', 'AveRooms', 'Population', 'AveOccup', 'Latitude', 'Longitude']\n",
      "Transformed Data: \n",
      "        MedInc  HouseAge  AveRooms  Population  AveOccup  Latitude  Longitude\n",
      "0      8.3252      41.0  6.984127       322.0  2.555556     37.88    -122.23\n",
      "1      8.3014      21.0  6.238137      2401.0  2.109842     37.86    -122.22\n",
      "2      7.2574      52.0  8.288136       496.0  2.802260     37.85    -122.24\n",
      "3      5.6431      52.0  5.817352       558.0  2.547945     37.85    -122.25\n",
      "4      3.8462      52.0  6.281853       565.0  2.181467     37.85    -122.25\n",
      "...       ...       ...       ...         ...       ...       ...        ...\n",
      "20635  1.5603      25.0  5.045455       845.0  2.560606     39.48    -121.09\n",
      "20636  2.5568      18.0  6.114035       356.0  3.122807     39.49    -121.21\n",
      "20637  1.7000      17.0  5.205543      1007.0  2.325635     39.43    -121.22\n",
      "20638  1.8672      18.0  5.329513       741.0  2.123209     39.43    -121.32\n",
      "20639  2.3886      16.0  5.254717      1387.0  2.616981     39.37    -121.24\n",
      "\n",
      "[20640 rows x 7 columns]\n"
     ]
    }
   ],
   "execution_count": 55
  }
 ],
 "metadata": {
  "kernelspec": {
   "display_name": "Python 3",
   "language": "python",
   "name": "python3"
  },
  "language_info": {
   "codemirror_mode": {
    "name": "ipython",
    "version": 2
   },
   "file_extension": ".py",
   "mimetype": "text/x-python",
   "name": "python",
   "nbconvert_exporter": "python",
   "pygments_lexer": "ipython2",
   "version": "2.7.6"
  }
 },
 "nbformat": 4,
 "nbformat_minor": 5
}
